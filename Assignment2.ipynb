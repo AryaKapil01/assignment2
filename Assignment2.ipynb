{
 "cells": [
  {
   "cell_type": "code",
   "execution_count": null,
   "id": "425c87f6",
   "metadata": {},
   "outputs": [],
   "source": [
    "# 1.What are the two values of the Boolean data type? How do you write them?\n",
    "\n",
    "       True and False are two values of boolean data type. By default True assign the value 1 and False assign \n",
    "    the value zero.Frist boolean variable write as' True 'and second one is 'False'.\n",
    "    \n",
    "    eg:True+False we get answer 1"
   ]
  },
  {
   "cell_type": "code",
   "execution_count": null,
   "id": "ad3372c3",
   "metadata": {},
   "outputs": [],
   "source": [
    "#2. What are the three different types of Boolean operators?\n",
    "        and , or, not are the three boolean operators . It is also called as logical operators.\n",
    "    and & or operators use two operands ,which may be evaluate to True or False.While not require only one operand to \n",
    "    perform evaluation"
   ]
  },
  {
   "cell_type": "code",
   "execution_count": null,
   "id": "7c8ca392",
   "metadata": {},
   "outputs": [],
   "source": [
    "#3. Make a list of each Boolean operators truth tables (i.e. every possible combination of Boolean\n",
    "values for the operator and what it evaluate ).\n",
    "\n",
    "True=1, False=0\n",
    "\n",
    "and\n",
    "\n",
    "a   b.   a and b\n",
    "0.  0.    0\n",
    "0.  1.    0\n",
    "1   0.    0\n",
    "1.   1.   1\n",
    "  \n",
    "or\n",
    " \n",
    "a   b       a or b\n",
    "0   0       0\n",
    "0   1       1\n",
    "1   0       1\n",
    "1   1       1\n",
    "\n",
    "not\n",
    "\n",
    "a   not(a)\n",
    "0     1 \n",
    "1     0"
   ]
  },
  {
   "cell_type": "code",
   "execution_count": null,
   "id": "64261e54",
   "metadata": {},
   "outputs": [],
   "source": [
    "#4. What are the values of the following expressions?\n",
    "\n",
    "operation           output\n",
    "(5>4)and(3==5)      False\n",
    "\n",
    "not(5>4)            False\n",
    "\n",
    "(5>4)or(3==5)       True\n",
    "\n",
    "not((5>4)or(3==5))  False\n",
    "\n",
    "(True and True)and(True==False)      False\n",
    "\n",
    "(not False)or(not True)              True\n"
   ]
  },
  {
   "cell_type": "code",
   "execution_count": null,
   "id": "c81c80d7",
   "metadata": {},
   "outputs": [],
   "source": [
    "#5. What are the six comparison operators?\n",
    "\n",
    "      These operators compare the values on either side of them and decide the relation among them . They are also \n",
    "called relational operators.Equal to, not equal to, greater than , less than , greater than or equal to, less than or \n",
    "equal to are the six comaparison operators.\n",
    "\n",
    "1. ==  If values of two operands are equal, then the condition  become True.\n",
    "\n",
    "2. !=  If values of two operands are not equal, then condition become True.\n",
    "\n",
    "3. >   If the value of left operand is greater than the value of right ,then the condition become True.\n",
    "\n",
    "4. <   If the value of left operand is lesser than the value of right ,Then the output become True .\n",
    "\n",
    "5. >=  If the value of left operand is greater than  or equal to the value of right ,then the condition become True.\n",
    "\n",
    "5. <=  If the value of left operand is lesser than  or equal to the value of right ,then the condition become True.\n",
    "\n"
   ]
  },
  {
   "cell_type": "code",
   "execution_count": null,
   "id": "9bccc106",
   "metadata": {},
   "outputs": [],
   "source": [
    "#6. How do you tell the difference between the equal to and assignment operators?Describe a\n",
    "condition and when you would use one.\n",
    "\n",
    "     equal to is a comparison operator , it is used to copare the values of two operands. If values of two operands\n",
    "are equal, then the condition  become True.Otherwise False.\n",
    "\n",
    "If a=20 and b=30 then output of  a==b is false.Becouse value of a is not equal to value of b.\n",
    "\n",
    "     Assignment operators are used to assign value from right side to left side operand. '=' sybol is used as \n",
    "assignment operator.\n",
    "\n",
    "'a=10 '  is  an example of assignment operation. Here the integer value 10 is assign to the variable named as 'a'.\n",
    "then'print(a) gives output =10.\n",
    "\n",
    "These are the difference between equal to and assignment operators.\n",
    "  \n",
    "\n",
    "If a=10 and b=20\n",
    "\n"
   ]
  },
  {
   "cell_type": "code",
   "execution_count": null,
   "id": "96d740a9",
   "metadata": {},
   "outputs": [],
   "source": [
    "#7. Identify the three blocks in this code:\n",
    "spam = 0\n",
    "if spam == 10:\n",
    "print('eggs')\n",
    "if spam>5:\n",
    "print('bacon')\n",
    "else:\n",
    "print('ham')\n",
    "print(\"spam\")\n",
    "print(\"spam\")\n",
    "\n",
    "Answer\n",
    "It has three blocks two if blocks and one else block\n",
    "\n",
    "\n",
    "spam = 0\n",
    "#if bock\n",
    "if spam == 10:\n",
    "    print('eggs') \n",
    "    \n",
    "#if block\n",
    "if spam>5:\n",
    "    print('bacon')\n",
    "    \n",
    "#else block\n",
    "else:\n",
    "    print('ham')\n",
    "    print(\"spam\")\n",
    "    print(\"spam\")\n"
   ]
  },
  {
   "cell_type": "code",
   "execution_count": null,
   "id": "e8ddb950",
   "metadata": {},
   "outputs": [],
   "source": [
    "#8. Write code that prints Hello if 1 is stored in spam, prints Howdy if 2 is stored in spam, and prints\n",
    "Greetings! if anything else is stored in spam."
   ]
  },
  {
   "cell_type": "code",
   "execution_count": 5,
   "id": "0125f270",
   "metadata": {},
   "outputs": [
    {
     "name": "stdout",
     "output_type": "stream",
     "text": [
      "enter a number4\n",
      "Greetings!\n"
     ]
    }
   ],
   "source": [
    "#answer\n",
    "try:\n",
    "    spam=int(input(\"enter a number\"))\n",
    "    if spam==1:\n",
    "        print(\"Hello\")\n",
    "    elif spam==2:\n",
    "        print('Howdy')\n",
    "    else:\n",
    "        print(\"Greetings!\")\n",
    "except:\n",
    "    print(\"Error: entered value is not integer\")"
   ]
  },
  {
   "cell_type": "code",
   "execution_count": null,
   "id": "3ed37ccb",
   "metadata": {},
   "outputs": [],
   "source": [
    "#9.If your programme is stuck in an endless loop, what keys you’ll press?\n",
    "\n",
    "      Kernel stop button"
   ]
  },
  {
   "cell_type": "code",
   "execution_count": null,
   "id": "75b59d0b",
   "metadata": {},
   "outputs": [],
   "source": [
    "#10. How can you tell the difference between break and continue?\n",
    "\n",
    "      break statement is used to exit from the loop.That is while we are running a loop , then in some particular \n",
    "condition we want to stop the process and exit from loop then we use break .\n",
    "      continue is also used inside loop .When program running inside a loop ,continue is used to skip crrent iteration\n",
    ". it does not exit from the loop.\n",
    "These are the main difference between break and continue . Mostly inside for and while loop we use break and continue."
   ]
  },
  {
   "cell_type": "code",
   "execution_count": null,
   "id": "bb8249c7",
   "metadata": {},
   "outputs": [],
   "source": [
    "#11. In a for loop, what is the difference between range(10), range(0, 10), and range(0, 10, 1)?\n",
    "\n",
    "        The range() function returns a sequence of numbers, starting from 0 by default and increment by 1(by default)\n",
    ",and stop before a specified number.Inside for loop these values iteration wise store inside temporary variable we \n",
    "define inside loop.\n",
    "\n",
    "range(10) gives 0,1,2,3,4,5,6,7,8,9\n",
    "\n",
    "range(0,10) means starting value 0 final value 10-1=9. It gives 0,1,2,3,4,5,6,7,8,9\n",
    "\n",
    "range(0,10,1) means starting value 0, final value 9 and increment is defined as 1."
   ]
  },
  {
   "cell_type": "code",
   "execution_count": null,
   "id": "942ca9ef",
   "metadata": {},
   "outputs": [],
   "source": [
    "#12. Write a short program that prints the numbers 1 to 10 using a for loop. Then write an equivalent\n",
    "program that prints the numbers 1 to 10 using a while loop."
   ]
  },
  {
   "cell_type": "code",
   "execution_count": 7,
   "id": "caf6017c",
   "metadata": {},
   "outputs": [
    {
     "name": "stdout",
     "output_type": "stream",
     "text": [
      "1\n",
      "2\n",
      "3\n",
      "4\n",
      "5\n",
      "6\n",
      "7\n",
      "8\n",
      "9\n",
      "10\n"
     ]
    }
   ],
   "source": [
    "#for loop\n",
    "for i in range(1,11):\n",
    "    print(i)"
   ]
  },
  {
   "cell_type": "code",
   "execution_count": 9,
   "id": "4f47220e",
   "metadata": {},
   "outputs": [
    {
     "name": "stdout",
     "output_type": "stream",
     "text": [
      "1\n",
      "2\n",
      "3\n",
      "4\n",
      "5\n",
      "6\n",
      "7\n",
      "8\n",
      "9\n",
      "10\n"
     ]
    }
   ],
   "source": [
    "#while loop\n",
    "a=1\n",
    "while(a<=10):\n",
    "    print(a)\n",
    "    a+=1"
   ]
  },
  {
   "cell_type": "code",
   "execution_count": null,
   "id": "eb0eb487",
   "metadata": {},
   "outputs": [],
   "source": [
    "#13. If you had a function named bacon() inside a module named spam, how would you call it after\n",
    "importing spam?\n",
    "\n",
    "spam.bacon()"
   ]
  }
 ],
 "metadata": {
  "kernelspec": {
   "display_name": "Python 3 (ipykernel)",
   "language": "python",
   "name": "python3"
  },
  "language_info": {
   "codemirror_mode": {
    "name": "ipython",
    "version": 3
   },
   "file_extension": ".py",
   "mimetype": "text/x-python",
   "name": "python",
   "nbconvert_exporter": "python",
   "pygments_lexer": "ipython3",
   "version": "3.9.7"
  }
 },
 "nbformat": 4,
 "nbformat_minor": 5
}
